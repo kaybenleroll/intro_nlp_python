{
 "cells": [
  {
   "cell_type": "markdown",
   "id": "0ef228d8",
   "metadata": {},
   "source": [
    "# Intro Models"
   ]
  },
  {
   "cell_type": "markdown",
   "id": "b0f70cff",
   "metadata": {},
   "source": [
    "## First Execution"
   ]
  },
  {
   "cell_type": "code",
   "execution_count": null,
   "id": "9c904c8d",
   "metadata": {},
   "outputs": [],
   "source": [
    "import stanza\n",
    "\n",
    "nlp = stanza.Pipeline('en')\n",
    "\n",
    "doc = nlp('Barack Obama was born in Hawaii.')\n",
    "\n",
    "for sentence in doc.sentences:\n",
    "  for word in sentence.words:\n",
    "    print(word.text, word.lemma, word.pos)\n"
   ]
  },
  {
   "cell_type": "markdown",
   "id": "3c52f80e",
   "metadata": {},
   "source": [
    "# Redo"
   ]
  },
  {
   "cell_type": "code",
   "execution_count": null,
   "id": "4b15c5d9",
   "metadata": {},
   "outputs": [],
   "source": [
    "import stanza\n",
    "\n",
    "nlp = stanza.Pipeline('en', processors='tokenize,pos', use_gpu=True, pos_batch_size=3000) # Build the pipeline, specify part-of-speech processor's batch size\n",
    "\n",
    "doc = nlp(\"Barack Obama was born in Hawaii.\") # Run the pipeline on the input text\n",
    "\n",
    "print(doc) # Look at the result"
   ]
  },
  {
   "cell_type": "markdown",
   "id": "a3f050e3",
   "metadata": {},
   "source": [
    "# Multiple Documents"
   ]
  },
  {
   "cell_type": "code",
   "execution_count": null,
   "id": "813c0247",
   "metadata": {},
   "outputs": [],
   "source": [
    "import stanza\n",
    "\n",
    "nlp = stanza.Pipeline(lang=\"en\") # Initialize the default English pipeline\n",
    "\n",
    "documents = [\"This is a test document.\", \"I wrote another document for fun.\"] # Documents that we are going to process\n",
    "\n",
    "in_docs = [stanza.Document([], text=d) for d in documents] # Wrap each document with a stanza.Document object\n",
    "\n",
    "out_docs = nlp(in_docs) # Call the neural pipeline on this list of documents\n",
    "\n",
    "print(out_docs[1]) # The output is also a list of stanza.Document objects, each output corresponding to an input Document object"
   ]
  },
  {
   "cell_type": "markdown",
   "id": "aa024c60",
   "metadata": {},
   "source": [
    "## Bulk Processing"
   ]
  },
  {
   "cell_type": "code",
   "execution_count": null,
   "id": "7f7f257c",
   "metadata": {},
   "outputs": [],
   "source": [
    "import stanza\n",
    "\n",
    "nlp = stanza.Pipeline(lang=\"en\") # Initialize the default English pipeline\n",
    "\n",
    "documents = [\"This is a test document.\", \"I wrote another document for fun.\"] # Documents that we are going to process\n",
    "\n",
    "out_docs = nlp.bulk_process(documents) # Call the neural pipeline on this list of documents\n",
    "\n",
    "print(out_docs[1]) # The output is also a list of stanza.Document objects, each output corresponding to an input Document object"
   ]
  },
  {
   "cell_type": "code",
   "execution_count": null,
   "id": "24a93d69",
   "metadata": {},
   "outputs": [],
   "source": []
  },
  {
   "cell_type": "code",
   "execution_count": null,
   "id": "64cfa331",
   "metadata": {},
   "outputs": [],
   "source": []
  },
  {
   "cell_type": "code",
   "execution_count": null,
   "id": "c409ab43",
   "metadata": {},
   "outputs": [],
   "source": []
  },
  {
   "cell_type": "code",
   "execution_count": null,
   "id": "889dc2d0",
   "metadata": {},
   "outputs": [],
   "source": []
  },
  {
   "cell_type": "code",
   "execution_count": null,
   "id": "4aeccbbc",
   "metadata": {},
   "outputs": [],
   "source": []
  },
  {
   "cell_type": "code",
   "execution_count": null,
   "id": "b0526371",
   "metadata": {},
   "outputs": [],
   "source": []
  },
  {
   "cell_type": "code",
   "execution_count": null,
   "id": "612cc7e7",
   "metadata": {},
   "outputs": [],
   "source": []
  },
  {
   "cell_type": "code",
   "execution_count": null,
   "id": "9823a28e",
   "metadata": {},
   "outputs": [],
   "source": []
  },
  {
   "cell_type": "code",
   "execution_count": null,
   "id": "8742cd03",
   "metadata": {},
   "outputs": [],
   "source": []
  },
  {
   "cell_type": "code",
   "execution_count": null,
   "id": "bece306d",
   "metadata": {},
   "outputs": [],
   "source": []
  }
 ],
 "metadata": {
  "kernelspec": {
   "display_name": "Python 3 (ipykernel)",
   "language": "python",
   "name": "python3"
  },
  "language_info": {
   "codemirror_mode": {
    "name": "ipython",
    "version": 3
   },
   "file_extension": ".py",
   "mimetype": "text/x-python",
   "name": "python",
   "nbconvert_exporter": "python",
   "pygments_lexer": "ipython3",
   "version": "3.11.5"
  }
 },
 "nbformat": 4,
 "nbformat_minor": 5
}
